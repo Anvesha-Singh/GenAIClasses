{
  "nbformat": 4,
  "nbformat_minor": 0,
  "metadata": {
    "colab": {
      "provenance": []
    },
    "kernelspec": {
      "name": "python3",
      "display_name": "Python 3"
    },
    "language_info": {
      "name": "python"
    }
  },
  "cells": [
    {
      "cell_type": "markdown",
      "source": [
        "Assignment 1: Pick any non-trivial problem statement from your computational thinking course and ask genAI to solve it. Iterate upon its solution to apply our principles of clean code."
      ],
      "metadata": {
        "id": "jr_LVt41V5t4"
      }
    },
    {
      "cell_type": "code",
      "source": [
        "test_cases = [\n",
        "    [\"A 12 14 16\", \"B 5 6 7\", \"C 17 20 23\", \"D 2 40 12\", \"E 3 41 13\", \"F 7 8 9\", \"G 4 5 6\"],\n",
        "    [\"Alice 80 90 75\", \"Bob 75 85 80\", \"Charlie 90 80 85\"],\n",
        "    [\"David 70 80 90\", \"Emma 80 75 95\", \"Frank 90 85 70\"]\n",
        "]"
      ],
      "metadata": {
        "id": "rBU8SmcnXMKP"
      },
      "execution_count": 7,
      "outputs": []
    },
    {
      "cell_type": "code",
      "source": [
        "def compare_students(student_a, student_b):\n",
        "  \"\"\"Compares two students based on their scores.\n",
        "\n",
        "  Args:\n",
        "      student_a: A list of integers representing student A's marks.\n",
        "      student_b: A list of integers representing student B's marks.\n",
        "\n",
        "  Returns:\n",
        "      A string indicating the ranking:\n",
        "          - \"A > B\" if A outperforms B in all subjects.\n",
        "          - \"B > A\" if B outperforms A in all subjects.\n",
        "          - \"Uncomparable\" if neither student consistently outperforms the other.\n",
        "  \"\"\"\n",
        "  student_a_wins = 0\n",
        "  student_b_wins = 0\n",
        "  for a_score, b_score in zip(student_a, student_b):\n",
        "    if a_score > b_score:\n",
        "      student_a_wins += 1\n",
        "    elif a_score < b_score:\n",
        "      student_b_wins += 1\n",
        "  if student_a_wins == len(student_a):\n",
        "    return f\"{student_a[0]} > {student_b[0]}\"\n",
        "  elif student_b_wins == len(student_b):\n",
        "    return f\"{student_b[0]} > {student_a[0]}\"\n",
        "  else:\n",
        "    return \"Uncomparable\"\n",
        "\n",
        "def transitive_closure(rankings):\n",
        "  \"\"\"Performs transitive closure and avoids redundant dependencies.\"\"\"\n",
        "  updated_rankings = set()\n",
        "  for ranking in rankings:\n",
        "    student_a, student_b = ranking.split(\" > \")\n",
        "    # Check if the entire chain (including student_a) already exists\n",
        "    if any(chain.startswith(f\"{student_a} > \") for chain in updated_rankings):\n",
        "      continue  # Skip redundant ranking\n",
        "\n",
        "    # Build the chain by iteratively finding transitive relations\n",
        "    current_chain = [student_a]\n",
        "    while True:\n",
        "      new_chains = []\n",
        "      for other_ranking in rankings:\n",
        "        student_c, student_d = other_ranking.split(\" > \")\n",
        "        if student_b == student_c and student_d not in current_chain:\n",
        "          new_chain = current_chain + [student_d]\n",
        "          new_chains.append(new_chain)\n",
        "      if not new_chains:\n",
        "        break\n",
        "      current_chain = max(new_chains, key=len)\n",
        "\n",
        "    # Add the final chain to the output, avoiding duplicates\n",
        "    updated_rankings.add(\">\".join(current_chain))\n",
        "  return list(updated_rankings)\n",
        "\n",
        "def main():\n",
        "  \"\"\"Reads student data, performs comparisons, and outputs final ranking.\"\"\"\n",
        "  for test_case in test_cases:\n",
        "    students = {}\n",
        "    for line in test_case:\n",
        "      student_name, *marks = line.split()\n",
        "      students[student_name] = [int(mark) for mark in marks]\n",
        "\n",
        "  rankings = []\n",
        "  for student_a, marks_a in students.items():\n",
        "    for student_b, marks_b in students.items():\n",
        "      if student_a != student_b:\n",
        "        comparison = compare_students(marks_a, marks_b)\n",
        "        if comparison != \"Uncomparable\":\n",
        "          rankings.append(comparison)\n",
        "\n",
        "  final_rankings = transitive_closure(rankings)\n",
        "  final_rankings.sort()  # Sort for readability\n",
        "\n",
        "  # Print the minimal set of ranking relations\n",
        "  for ranking in final_rankings:\n",
        "    print(ranking)\n",
        "\n",
        "if __name__ == \"__main__\":\n",
        "  main()"
      ],
      "metadata": {
        "id": "-dgRlGZJV-J-"
      },
      "execution_count": 14,
      "outputs": []
    }
  ]
}