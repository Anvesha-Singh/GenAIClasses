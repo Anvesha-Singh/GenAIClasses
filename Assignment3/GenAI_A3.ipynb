{
  "nbformat": 4,
  "nbformat_minor": 0,
  "metadata": {
    "colab": {
      "provenance": []
    },
    "kernelspec": {
      "name": "python3",
      "display_name": "Python 3"
    },
    "language_info": {
      "name": "python"
    }
  },
  "cells": [
    {
      "cell_type": "markdown",
      "source": [
        "Assignment 03:\n",
        "Create a testing strategy for the Yahtzee scorer code that was generated and document your journey.\n"
      ],
      "metadata": {
        "id": "9C_jEbXGgh8p"
      }
    },
    {
      "cell_type": "code",
      "source": [
        "import random\n",
        "\n",
        "class Yahtzee:\n",
        "  def __init__(self):\n",
        "    self.scorecard = {\n",
        "      \"upper_section\": [None] * 6,  # Tracks scores for 1s to 6s\n",
        "      \"lower_section\": {\n",
        "        \"three_of_a_kind\": None,\n",
        "        \"four_of_a_kind\": None,\n",
        "        \"full_house\": None,\n",
        "        \"small_straight\": None,\n",
        "        \"large_straight\": None,\n",
        "        \"yahtzee\": None,\n",
        "        \"chance\": None\n",
        "      },\n",
        "      \"bonus\": 0,\n",
        "      \"grand_total\": 0\n",
        "    }\n",
        "    self.dice = []\n",
        "\n",
        "  def roll_dice(self, num_dice):\n",
        "    \"\"\"Simulates rolling dice and returns a list of results.\"\"\"\n",
        "    self.dice = [random.randint(1, 6) for _ in range(num_dice)]\n",
        "    return self.dice\n",
        "\n",
        "  def select_dice_to_re_roll(self):\n",
        "    \"\"\"Prompts user to select dice for re-roll and validates input.\"\"\"\n",
        "    while True:\n",
        "        re_roll_str = input(\"Select dice to re-roll (e.g., 1,3): \")\n",
        "        try:\n",
        "            re_roll_dice = [int(x) for x in re_roll_str.split(\",\")]\n",
        "            # Check if all indices are within 1 to len(self.dice)\n",
        "            if all(1 <= num <= len(self.dice) for num in re_roll_dice):\n",
        "                return re_roll_dice\n",
        "            else:\n",
        "                print(\"Invalid input. Enter numbers between 1 and\", len(self.dice))\n",
        "        except ValueError:\n",
        "            print(\"Invalid input. Enter comma-separated numbers.\")\n",
        "\n",
        "  import re\n",
        "\n",
        "  def re_roll(self):\n",
        "        \"\"\"Re-rolls selected dice, but only if dice have been rolled and validates input.\"\"\"\n",
        "        if not self.dice:\n",
        "            print(\"No dice rolled yet. Please roll first.\")\n",
        "            return\n",
        "\n",
        "        while True:\n",
        "            re_roll_str = input(\"Select dice to re-roll (e.g., 1,3): \")\n",
        "            # Validate input format (comma-separated numbers)\n",
        "            if not re.match(r\"^\\d+(?:,\\d+)*$\", re_roll_str):\n",
        "                print(\"Invalid input. Enter comma-separated numbers (e.g., 1,3).\")\n",
        "                continue\n",
        "            try:\n",
        "                re_roll_dice = [int(x) for x in re_roll_str.split(\",\")]\n",
        "                # Check if all indices are within 1 to len(self.dice)\n",
        "                if all(1 <= num <= len(self.dice) for num in re_roll_dice):\n",
        "                    break\n",
        "                else:\n",
        "                    print(\"Invalid input. Enter numbers between 1 and\", len(self.dice))\n",
        "            except ValueError:\n",
        "                print(\"Invalid input. Enter comma-separated numbers.\")\n",
        "\n",
        "        for i in re_roll_dice:\n",
        "            self.dice[i-1] = self.roll_dice(1)[0]  # Access using validated index\n",
        "        print(\"After re-roll:\", self.dice)\n",
        "\n",
        "  def calculate_score(self, category):\n",
        "    \"\"\"Calculates score based on the chosen category and current dice.\"\"\"\n",
        "    dice_counts = [0] * 7  # Initialize dice count (1 to 6)\n",
        "    for die in self.dice:\n",
        "      dice_counts[die] += 1\n",
        "\n",
        "    if category in self.scorecard[\"upper_section\"]:\n",
        "      # Upper section (score based on matching number)\n",
        "      return dice_counts[category] * category if dice_counts[category] >= category else 0\n",
        "    elif category == \"three_of_a_kind\":\n",
        "      # Check for 3 of a kind\n",
        "      for num, count in enumerate(dice_counts[1:]):\n",
        "        if count >= 3:\n",
        "          return sum(self.dice)\n",
        "      return 0\n",
        "    elif category == \"four_of_a_kind\":\n",
        "      # Check for 4 of a kind\n",
        "      for num, count in enumerate(dice_counts[1:]):\n",
        "        if count >= 4:\n",
        "          return sum(self.dice)\n",
        "      return 0\n",
        "    elif category == \"full_house\":\n",
        "      # Check for full house (3 of a kind and a pair)\n",
        "      has_three = False\n",
        "      has_two = False\n",
        "      for count in dice_counts[1:]:\n",
        "        if count == 3:\n",
        "          has_three = True\n",
        "        elif count == 2:\n",
        "          has_two = True\n",
        "      return 25 if has_three and has_two else 0\n",
        "    elif category == \"small_straight\":\n",
        "      # Check for small straight (1, 2, 3, 4) or (2, 3, 4, 5)\n",
        "      return 30 if any(sorted(self.dice)[i:i+4] == [x for x in range(i+1, i+5)] for i in range(2)) else 0\n",
        "    elif category == \"large_straight\":\n",
        "      # Check for large straight (1, 2, 3, 4, 5) or (2, 3, 4, 5, 6)\n",
        "      return 40 if any(sorted(self.dice) == [x for x in range(1, 6)] or sorted(self.dice) == [x for x in range(2, 7)]) else 0\n",
        "    elif category == \"yahtzee\":\n",
        "      # Check for Yahtzee (all dice same)\n",
        "      return 50 if all(count == dice_counts[0] for count in dice_counts[1:]) else 0\n",
        "    elif category == \"chance\":\n",
        "      # Chance (sum of all dice)\n",
        "      return sum(self.dice)\n",
        "\n",
        "  def choose_and_fill_category(self):\n",
        "    \"\"\"Prompts user to choose a category and fills the scorecard.\"\"\"\n"
      ],
      "metadata": {
        "id": "4Gq_-s7CgvEy"
      },
      "execution_count": 26,
      "outputs": []
    },
    {
      "cell_type": "code",
      "source": [
        "game = Yahtzee()"
      ],
      "metadata": {
        "id": "spY18qkyiw_k"
      },
      "execution_count": 27,
      "outputs": []
    },
    {
      "cell_type": "code",
      "source": [
        "num_turns = 13  # Adjust for desired number of turns\n",
        "for turn in range(num_turns):\n",
        "  print(f\"\\nTurn {turn+1}\")\n",
        "  # Roll dice and display results\n",
        "  game.roll_dice(5)\n",
        "  print(\"Rolled:\", game.dice)\n",
        "\n",
        "  # Re-roll logic (optional)\n",
        "  re_roll = input(\"Re-roll dice? (y/n): \")\n",
        "  if re_roll.lower() == 'y':\n",
        "    game.re_roll()\n",
        "    print(\"After re-roll:\", game.dice)\n",
        "\n",
        "  # Choose category\n",
        "  available_categories = [cat for cat, score in game.scorecard.items() if score is None]\n",
        "  print(\"\\nAvailable Categories:\")\n",
        "  for i, category in enumerate(available_categories):\n",
        "    print(f\"{i+1}. {category}\")\n",
        "\n",
        "  chosen_category_index = int(input(\"Choose a category (number): \")) - 1\n",
        "  chosen_category = available_categories[chosen_category_index]\n",
        "\n",
        "  # Calculate and fill score\n",
        "  score = game.calculate_score(chosen_category)\n",
        "  game.scorecard[chosen_category if chosen_category in game.scorecard[\"upper_section\"] else \"lower_section\"][chosen_category] = score\n",
        "  print(f\"Selected: {chosen_category}, Score: {score}\")\n"
      ],
      "metadata": {
        "colab": {
          "base_uri": "https://localhost:8080/",
          "height": 435
        },
        "id": "ngt6y0BijfWQ",
        "outputId": "12f5245f-d1cc-43a1-9685-215bdd35576d"
      },
      "execution_count": 28,
      "outputs": [
        {
          "name": "stdout",
          "output_type": "stream",
          "text": [
            "\n",
            "Turn 1\n",
            "Rolled: [6, 4, 6, 5, 1]\n",
            "Re-roll dice? (y/n): y\n",
            "Select dice to re-roll (e.g., 1,3): 1,3\n"
          ]
        },
        {
          "output_type": "error",
          "ename": "NameError",
          "evalue": "name 're' is not defined",
          "traceback": [
            "\u001b[0;31m---------------------------------------------------------------------------\u001b[0m",
            "\u001b[0;31mNameError\u001b[0m                                 Traceback (most recent call last)",
            "\u001b[0;32m<ipython-input-28-380d3723f4e1>\u001b[0m in \u001b[0;36m<cell line: 2>\u001b[0;34m()\u001b[0m\n\u001b[1;32m      9\u001b[0m   \u001b[0mre_roll\u001b[0m \u001b[0;34m=\u001b[0m \u001b[0minput\u001b[0m\u001b[0;34m(\u001b[0m\u001b[0;34m\"Re-roll dice? (y/n): \"\u001b[0m\u001b[0;34m)\u001b[0m\u001b[0;34m\u001b[0m\u001b[0;34m\u001b[0m\u001b[0m\n\u001b[1;32m     10\u001b[0m   \u001b[0;32mif\u001b[0m \u001b[0mre_roll\u001b[0m\u001b[0;34m.\u001b[0m\u001b[0mlower\u001b[0m\u001b[0;34m(\u001b[0m\u001b[0;34m)\u001b[0m \u001b[0;34m==\u001b[0m \u001b[0;34m'y'\u001b[0m\u001b[0;34m:\u001b[0m\u001b[0;34m\u001b[0m\u001b[0;34m\u001b[0m\u001b[0m\n\u001b[0;32m---> 11\u001b[0;31m     \u001b[0mgame\u001b[0m\u001b[0;34m.\u001b[0m\u001b[0mre_roll\u001b[0m\u001b[0;34m(\u001b[0m\u001b[0;34m)\u001b[0m\u001b[0;34m\u001b[0m\u001b[0;34m\u001b[0m\u001b[0m\n\u001b[0m\u001b[1;32m     12\u001b[0m     \u001b[0mprint\u001b[0m\u001b[0;34m(\u001b[0m\u001b[0;34m\"After re-roll:\"\u001b[0m\u001b[0;34m,\u001b[0m \u001b[0mgame\u001b[0m\u001b[0;34m.\u001b[0m\u001b[0mdice\u001b[0m\u001b[0;34m)\u001b[0m\u001b[0;34m\u001b[0m\u001b[0;34m\u001b[0m\u001b[0m\n\u001b[1;32m     13\u001b[0m \u001b[0;34m\u001b[0m\u001b[0m\n",
            "\u001b[0;32m<ipython-input-26-09b865b69b63>\u001b[0m in \u001b[0;36mre_roll\u001b[0;34m(self)\u001b[0m\n\u001b[1;32m     49\u001b[0m             \u001b[0mre_roll_str\u001b[0m \u001b[0;34m=\u001b[0m \u001b[0minput\u001b[0m\u001b[0;34m(\u001b[0m\u001b[0;34m\"Select dice to re-roll (e.g., 1,3): \"\u001b[0m\u001b[0;34m)\u001b[0m\u001b[0;34m\u001b[0m\u001b[0;34m\u001b[0m\u001b[0m\n\u001b[1;32m     50\u001b[0m             \u001b[0;31m# Validate input format (comma-separated numbers)\u001b[0m\u001b[0;34m\u001b[0m\u001b[0;34m\u001b[0m\u001b[0m\n\u001b[0;32m---> 51\u001b[0;31m             \u001b[0;32mif\u001b[0m \u001b[0;32mnot\u001b[0m \u001b[0mre\u001b[0m\u001b[0;34m.\u001b[0m\u001b[0mmatch\u001b[0m\u001b[0;34m(\u001b[0m\u001b[0;34mr\"^\\d+(?:,\\d+)*$\"\u001b[0m\u001b[0;34m,\u001b[0m \u001b[0mre_roll_str\u001b[0m\u001b[0;34m)\u001b[0m\u001b[0;34m:\u001b[0m\u001b[0;34m\u001b[0m\u001b[0;34m\u001b[0m\u001b[0m\n\u001b[0m\u001b[1;32m     52\u001b[0m                 \u001b[0mprint\u001b[0m\u001b[0;34m(\u001b[0m\u001b[0;34m\"Invalid input. Enter comma-separated numbers (e.g., 1,3).\"\u001b[0m\u001b[0;34m)\u001b[0m\u001b[0;34m\u001b[0m\u001b[0;34m\u001b[0m\u001b[0m\n\u001b[1;32m     53\u001b[0m                 \u001b[0;32mcontinue\u001b[0m\u001b[0;34m\u001b[0m\u001b[0;34m\u001b[0m\u001b[0m\n",
            "\u001b[0;31mNameError\u001b[0m: name 're' is not defined"
          ]
        }
      ]
    },
    {
      "cell_type": "code",
      "source": [
        "print(\"\\nFinal Scorecard:\")\n",
        "for category, score in game.scorecard.items():\n",
        "  print(f\"{category}: {score}\")"
      ],
      "metadata": {
        "colab": {
          "base_uri": "https://localhost:8080/"
        },
        "id": "spWvZhjVjZkX",
        "outputId": "f61006f1-062e-4f80-9706-63ed21533f2d"
      },
      "execution_count": 20,
      "outputs": [
        {
          "output_type": "stream",
          "name": "stdout",
          "text": [
            "\n",
            "Final Scorecard:\n",
            "upper_section: [None, None, None, None, None, None]\n",
            "lower_section: {'three_of_a_kind': None, 'four_of_a_kind': None, 'full_house': None, 'small_straight': None, 'large_straight': None, 'yahtzee': None, 'chance': None}\n",
            "bonus: 0\n",
            "grand_total: 0\n"
          ]
        }
      ]
    }
  ]
}